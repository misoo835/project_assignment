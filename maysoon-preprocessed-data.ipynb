{
 "cells": [
  {
   "cell_type": "code",
   "execution_count": 13,
   "id": "18c53394-36c3-4bb1-8a67-9b80bd21e44a",
   "metadata": {},
   "outputs": [
    {
     "name": "stdout",
     "output_type": "stream",
     "text": [
      "Initial Data:\n",
      "                 created_at  entry_id  field1  field2  field3  field4  field5  \\\n",
      "0 2024-04-06 12:00:27+05:30      1256     163    42.0    33.8    49.0   520.0   \n",
      "1 2024-04-06 12:01:30+05:30      1257     162    37.0    33.8    49.0   637.0   \n",
      "2 2024-04-06 12:02:32+05:30      1258     173    47.0    33.7    50.0   679.0   \n",
      "3 2024-04-06 12:03:34+05:30      1259     168    37.0    33.3    51.0   539.0   \n",
      "4 2024-04-06 12:04:36+05:30      1260     168    37.0    33.3    52.0   697.0   \n",
      "\n",
      "   field6  field7  latitude  longitude  elevation  status  \n",
      "0    18.0    21.0       NaN        NaN        NaN     NaN  \n",
      "1    36.0     9.0       NaN        NaN        NaN     NaN  \n",
      "2    42.0     3.0       NaN        NaN        NaN     NaN  \n",
      "3    21.0     0.0       NaN        NaN        NaN     NaN  \n",
      "4    45.0     0.0       NaN        NaN        NaN     NaN  \n",
      "Cleaned Data:\n",
      "                           entry_id  field1  field2  field3  field4  field5  \\\n",
      "created_at                                                                    \n",
      "2024-04-06 12:00:27+05:30      1256     163    42.0    33.8    49.0   520.0   \n",
      "2024-04-06 12:01:30+05:30      1257     162    37.0    33.8    49.0   637.0   \n",
      "2024-04-06 12:02:32+05:30      1258     173    47.0    33.7    50.0   679.0   \n",
      "2024-04-06 12:03:34+05:30      1259     168    37.0    33.3    51.0   539.0   \n",
      "2024-04-06 12:04:36+05:30      1260     168    37.0    33.3    52.0   697.0   \n",
      "\n",
      "                           field6  field7  latitude  longitude  elevation  \\\n",
      "created_at                                                                  \n",
      "2024-04-06 12:00:27+05:30    18.0    21.0       NaN        NaN        NaN   \n",
      "2024-04-06 12:01:30+05:30    36.0     9.0       NaN        NaN        NaN   \n",
      "2024-04-06 12:02:32+05:30    42.0     3.0       NaN        NaN        NaN   \n",
      "2024-04-06 12:03:34+05:30    21.0     0.0       NaN        NaN        NaN   \n",
      "2024-04-06 12:04:36+05:30    45.0     0.0       NaN        NaN        NaN   \n",
      "\n",
      "                           status  \n",
      "created_at                         \n",
      "2024-04-06 12:00:27+05:30     NaN  \n",
      "2024-04-06 12:01:30+05:30     NaN  \n",
      "2024-04-06 12:02:32+05:30     NaN  \n",
      "2024-04-06 12:03:34+05:30     NaN  \n",
      "2024-04-06 12:04:36+05:30     NaN  \n",
      "Cleaned data saved to preprocessed_cleaned_indoor_data.csv\n"
     ]
    }
   ],
   "source": [
    "# Import necessary libraries\n",
    "import pandas as pd\n",
    "import numpy as np\n",
    "\n",
    "# Load the data\n",
    "data = pd.read_csv('indoor_data.csv', parse_dates=['created_at'])\n",
    "\n",
    "# Display the first few rows\n",
    "print(\"Initial Data:\")\n",
    "print(data.head())\n",
    "\n",
    "# Handle missing values (if any) using forward fill\n",
    "data.ffill(inplace=True)\n",
    "\n",
    "# Convert 'created_at' to datetime and set as index\n",
    "data.set_index('created_at', inplace=True)\n",
    "\n",
    "# 'field2' is the air quality index, convert it to numeric values\n",
    "data['field2'] = pd.to_numeric(data['field2'], errors='coerce')\n",
    "\n",
    "# Drop rows with NaN values in 'field2'\n",
    "data.dropna(subset=['field2'], inplace=True)\n",
    "\n",
    "# Display the cleaned data\n",
    "print(\"Cleaned Data:\")\n",
    "print(data.head())\n",
    "\n",
    "# Save the cleaned data to a new CSV file\n",
    "cleaned_file_path = 'preprocessed_cleaned_indoor_data.csv'\n",
    "data.to_csv(cleaned_file_path)\n",
    "\n",
    "print(f\"Cleaned data saved to {cleaned_file_path}\")\n"
   ]
  },
  {
   "cell_type": "code",
   "execution_count": null,
   "id": "01010bdf-205f-4b34-9700-d7c673bef101",
   "metadata": {},
   "outputs": [],
   "source": []
  }
 ],
 "metadata": {
  "kernelspec": {
   "display_name": "Python [conda env:base] *",
   "language": "python",
   "name": "conda-base-py"
  },
  "language_info": {
   "codemirror_mode": {
    "name": "ipython",
    "version": 3
   },
   "file_extension": ".py",
   "mimetype": "text/x-python",
   "name": "python",
   "nbconvert_exporter": "python",
   "pygments_lexer": "ipython3",
   "version": "3.12.7"
  }
 },
 "nbformat": 4,
 "nbformat_minor": 5
}
